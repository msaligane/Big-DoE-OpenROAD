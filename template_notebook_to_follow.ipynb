{
  "cells": [
    {
      "cell_type": "markdown",
      "metadata": {
        "id": "view-in-github",
        "colab_type": "text"
      },
      "source": [
        "<a href=\"https://colab.research.google.com/github/msaligane/Big-DoE-OpenROAD/blob/main/template_notebook_to_follow.ipynb\" target=\"_parent\"><img src=\"https://colab.research.google.com/assets/colab-badge.svg\" alt=\"Open In Colab\"/></a>"
      ]
    },
    {
      "cell_type": "markdown",
      "metadata": {
        "id": "aK2t7aSWNojQ"
      },
      "source": [
        "# Title: Template for Simple Simulations in GF180MCU Analysing a V<sub>GS</sub> sweep\n",
        "\n",
        "\n",
        "```\n",
        "SSCS TC-OSE Team, February 2023\n",
        "SPDX-License-Identifier: Apache-2.0\n",
        "```\n",
        "\n",
        "\n",
        "|Name|Email|Affiliation|IEEE Member|SSCS Member|\n",
        "|:--:|:--:|:----------:|:----------:|:----------:|\n",
        "|Author 1|Email1|Affiliation 1|Yes/No|Yes/No|\n",
        "|Author 2|Email2|Affiliation 2|Yes/No|Yes/No|\n",
        "|Author 3|Email3|Affiliation 3|Yes/No|Yes/No|\n",
        "|Author 4 (Lead) <br />|Email4|Affiliation 4|Yes/No|Yes/No|"
      ]
    },
    {
      "cell_type": "markdown",
      "metadata": {
        "id": "W7JQJy7mvn2w"
      },
      "source": [
        "**_Abstract_** - This electronic document is a “live” template and already defines the components of your paper [title, text, heads,\n",
        "etc.] in its style sheet. *\n",
        "\n",
        "**_Key words_** - component; formatting; style; styling; insert (key words)\n"
      ]
    },
    {
      "cell_type": "markdown",
      "metadata": {
        "id": "4ProrWGQPJEx"
      },
      "source": [
        "## Tool Installation\n",
        "\n",
        "This is where you need to install your tools. We provide here an example where conda environment is being installed and then Ngspice for simulations."
      ]
    },
    {
      "cell_type": "markdown",
      "metadata": {
        "id": "LLYfEdDLPJEy"
      },
      "source": [
        "\n",
        "**_Tool setup adopted from @proppy and @bmurmann (see this [Colab notebook](https://colab.research.google.com/gist/proppy/a0c5ed3e28e942f1621200dcf67bad5a/sky130-pyspice-playground.ipynb#scrollTo=q0XHBAt1jGmQ))_**"
      ]
    },
    {
      "cell_type": "code",
      "execution_count": null,
      "metadata": {
        "colab": {
          "base_uri": "https://localhost:8080/",
          "height": 141
        },
        "id": "5dHhq5m6wTI2",
        "outputId": "e5b6b3e4-b4f1-4f4f-88c3-b1f294e03d0c"
      },
      "outputs": [
        {
          "name": "stdout",
          "output_type": "stream",
          "text": [
            "  Installing build dependencies ... \u001b[?25l\u001b[?25hdone\n",
            "  Getting requirements to build wheel ... \u001b[?25l\u001b[?25hdone\n",
            "  Preparing metadata (pyproject.toml) ... \u001b[?25l\u001b[?25hdone\n",
            "  Building wheel for condacolab (pyproject.toml) ... \u001b[?25l\u001b[?25hdone\n",
            "\u001b[33mWARNING: Running pip as the 'root' user can result in broken permissions and conflicting behaviour with the system package manager. It is recommended to use a virtual environment instead: https://pip.pypa.io/warnings/venv\u001b[0m\u001b[33m\n",
            "\u001b[0m✨🍰✨ Everything looks OK!\n"
          ]
        }
      ],
      "source": [
        "#@title Bootstrap conda environment {display-mode: \"form\"}\n",
        "#@markdown - Click the ▷ button to initialize the conda-eda environment.\n",
        "#@markdown - Wait for the installation to complete\n",
        "#@markdown - Click the `Restart Kernel` button.\n",
        "%pip install -q https://github.com/conda-incubator/condacolab/archive/28521d7c5c494dd6377bb072d97592e30c44609c.tar.gz\n",
        "import condacolab\n",
        "\n",
        "condacolab.install(restart_kernel=False)"
      ]
    },
    {
      "cell_type": "markdown",
      "metadata": {
        "id": "U6rf4KBdwsJ5"
      },
      "source": [
        "### Install dependencies\n",
        "\n",
        "- Wait for the kernel restart to complete.\n",
        "- Click the ▷ button below to run the hidden cells to complete the setup."
      ]
    },
    {
      "cell_type": "code",
      "execution_count": null,
      "metadata": {
        "colab": {
          "base_uri": "https://localhost:8080/"
        },
        "id": "aKoPD8cKw2UL",
        "outputId": "8d1db9b2-5dda-42c8-fe00-2e7a8d0b8bff"
      },
      "outputs": [
        {
          "name": "stdout",
          "output_type": "stream",
          "text": [
            "Overwriting environment.yml\n"
          ]
        }
      ],
      "source": [
        "%%writefile environment.yml\n",
        "channels:\n",
        "  - conda-forge\n",
        "dependencies:\n",
        "  - ngspice"
      ]
    },
    {
      "cell_type": "code",
      "execution_count": null,
      "metadata": {
        "colab": {
          "base_uri": "https://localhost:8080/"
        },
        "id": "JBbUOsEPyTuU",
        "outputId": "4cd6e0e8-4e70-4a70-b7a1-5ada626a03c6"
      },
      "outputs": [
        {
          "name": "stdout",
          "output_type": "stream",
          "text": [
            "\u001b[?25l\u001b[2K\u001b[0G[+] 0.0s\n",
            "\u001b[2K\u001b[1A\u001b[2K\u001b[0G[+] 0.1s\n",
            "conda-forge/linux-64  ⣾  \n",
            "conda-forge/noarch    ⣾  \u001b[2K\u001b[1A\u001b[2K\u001b[1A\u001b[2K\u001b[0G[+] 0.2s\n",
            "conda-forge/linux-64  ⣾  \n",
            "conda-forge/noarch    ⣾  \u001b[2K\u001b[1A\u001b[2K\u001b[1A\u001b[2K\u001b[0G[+] 0.3s\n",
            "conda-forge/linux-64  ⣾  \n",
            "conda-forge/noarch    ⣾  \u001b[2K\u001b[1A\u001b[2K\u001b[1A\u001b[2K\u001b[0G[+] 0.4s\n",
            "conda-forge/linux-64  ⣾  \n",
            "conda-forge/noarch    ⣾  \u001b[2K\u001b[1A\u001b[2K\u001b[1A\u001b[2K\u001b[0G[+] 0.5s\n",
            "conda-forge/linux-64  ⣾  \n",
            "conda-forge/noarch    ⣾  \u001b[2K\u001b[1A\u001b[2K\u001b[1A\u001b[2K\u001b[0G[+] 0.6s\n",
            "conda-forge/linux-64  ⣾  \n",
            "conda-forge/noarch    ⣾  \u001b[2K\u001b[1A\u001b[2K\u001b[1A\u001b[2K\u001b[0G[+] 0.7s\n",
            "conda-forge/linux-64  ⣾  \n",
            "conda-forge/noarch    ⣾  \u001b[2K\u001b[1A\u001b[2K\u001b[1A\u001b[2K\u001b[0G[+] 0.8s\n",
            "conda-forge/linux-64  ⣾  \n",
            "conda-forge/noarch    ⣾  \u001b[2K\u001b[1A\u001b[2K\u001b[1A\u001b[2K\u001b[0G[+] 0.9s\n",
            "conda-forge/linux-64  ⣾  \n",
            "conda-forge/noarch    ⣾  \u001b[2K\u001b[1A\u001b[2K\u001b[1A\u001b[2K\u001b[0G[+] 1.0s\n",
            "conda-forge/linux-64  ⣾  \n",
            "conda-forge/noarch    ⣾  \u001b[2K\u001b[1A\u001b[2K\u001b[1A\u001b[2K\u001b[0G[+] 1.1s\n",
            "conda-forge/linux-64  ⣾  \n",
            "conda-forge/noarch    ⣾  \u001b[2K\u001b[1A\u001b[2K\u001b[1A\u001b[2K\u001b[0G[+] 1.2s\n",
            "conda-forge/linux-64  ⣾  \n",
            "conda-forge/noarch    ⣾  \u001b[2K\u001b[1A\u001b[2K\u001b[1A\u001b[2K\u001b[0G[+] 1.3s\n",
            "conda-forge/linux-64  ⣾  \n",
            "conda-forge/noarch    ⣾  \u001b[2K\u001b[1A\u001b[2K\u001b[1A\u001b[2K\u001b[0G[+] 1.4s\n",
            "conda-forge/linux-64  ⣾  \n",
            "conda-forge/noarch    ⣾  \u001b[2K\u001b[1A\u001b[2K\u001b[1A\u001b[2K\u001b[0G[+] 1.5s\n",
            "conda-forge/linux-64  ⣾  \n",
            "conda-forge/noarch    ⣾  \u001b[2K\u001b[1A\u001b[2K\u001b[1A\u001b[2K\u001b[0G[+] 1.6s\n",
            "conda-forge/linux-64  ⣾  \n",
            "conda-forge/noarch    ⣾  \u001b[2K\u001b[1A\u001b[2K\u001b[1A\u001b[2K\u001b[0G[+] 1.7s\n",
            "conda-forge/linux-64  ⣾  \n",
            "conda-forge/noarch    ⣾  \u001b[2K\u001b[1A\u001b[2K\u001b[1A\u001b[2K\u001b[0G[+] 1.8s\n",
            "conda-forge/linux-64  ⣾  \n",
            "conda-forge/noarch    ⣾  \u001b[2K\u001b[1A\u001b[2K\u001b[1A\u001b[2K\u001b[0G[+] 1.9s\n",
            "conda-forge/linux-64  ⣾  \n",
            "conda-forge/noarch    ⣾  \u001b[2K\u001b[1A\u001b[2K\u001b[1A\u001b[2K\u001b[0G[+] 2.0s\n",
            "conda-forge/linux-64  ⣾  \n",
            "conda-forge/noarch    ⣾  \u001b[2K\u001b[1A\u001b[2K\u001b[1A\u001b[2K\u001b[0G[+] 2.1s\n",
            "conda-forge/linux-64  ⣾  \n",
            "conda-forge/noarch    ⣾  \u001b[2K\u001b[1A\u001b[2K\u001b[1A\u001b[2K\u001b[0G[+] 2.2s\n",
            "conda-forge/linux-64  ⣾  \n",
            "conda-forge/noarch    ⣾  \u001b[2K\u001b[1A\u001b[2K\u001b[1A\u001b[2K\u001b[0G[+] 2.3s\n",
            "conda-forge/linux-64  ⣾  \n",
            "conda-forge/noarch   100%\u001b[2K\u001b[1A\u001b[2K\u001b[1A\u001b[2K\u001b[0G[+] 2.4s\n",
            "conda-forge/linux-64  ⣾  \n",
            "conda-forge/noarch   100%\u001b[2K\u001b[1A\u001b[2K\u001b[1A\u001b[2K\u001b[0Gconda-forge/noarch                                \n",
            "[+] 2.5s\n",
            "conda-forge/linux-64  ⣾  \u001b[2K\u001b[1A\u001b[2K\u001b[0G[+] 2.6s\n",
            "conda-forge/linux-64  ⣾  \u001b[2K\u001b[1A\u001b[2K\u001b[0G[+] 2.7s\n",
            "conda-forge/linux-64  ⣾  \u001b[2K\u001b[1A\u001b[2K\u001b[0G[+] 2.8s\n",
            "conda-forge/linux-64  ⣾  \u001b[2K\u001b[1A\u001b[2K\u001b[0G[+] 2.9s\n",
            "conda-forge/linux-64  ⣾  \u001b[2K\u001b[1A\u001b[2K\u001b[0G[+] 3.0s\n",
            "conda-forge/linux-64  ⣾  \u001b[2K\u001b[1A\u001b[2K\u001b[0G[+] 3.1s\n",
            "conda-forge/linux-64  ⣾  \u001b[2K\u001b[1A\u001b[2K\u001b[0G[+] 3.2s\n",
            "conda-forge/linux-64  ⣾  \u001b[2K\u001b[1A\u001b[2K\u001b[0G[+] 3.3s\n",
            "conda-forge/linux-64  ⣾  \u001b[2K\u001b[1A\u001b[2K\u001b[0G[+] 3.4s\n",
            "conda-forge/linux-64  ⣾  \u001b[2K\u001b[1A\u001b[2K\u001b[0G[+] 3.5s\n",
            "conda-forge/linux-64  ⣾  \u001b[2K\u001b[1A\u001b[2K\u001b[0G[+] 3.6s\n",
            "conda-forge/linux-64  ⣾  \u001b[2K\u001b[1A\u001b[2K\u001b[0G[+] 3.7s\n",
            "conda-forge/linux-64  ⣾  \u001b[2K\u001b[1A\u001b[2K\u001b[0G[+] 3.8s\n",
            "conda-forge/linux-64  ⣾  \u001b[2K\u001b[1A\u001b[2K\u001b[0G[+] 3.9s\n",
            "conda-forge/linux-64  ⣾  \u001b[2K\u001b[1A\u001b[2K\u001b[0G[+] 4.0s\n",
            "conda-forge/linux-64  ⣾  \u001b[2K\u001b[1A\u001b[2K\u001b[0G[+] 4.1s\n",
            "conda-forge/linux-64  ⣾  \u001b[2K\u001b[1A\u001b[2K\u001b[0G[+] 4.2s\n",
            "conda-forge/linux-64  ⣾  \u001b[2K\u001b[1A\u001b[2K\u001b[0G[+] 4.3s\n",
            "conda-forge/linux-64  ⣾  \u001b[2K\u001b[1A\u001b[2K\u001b[0G[+] 4.4s\n",
            "conda-forge/linux-64  ⣾  \u001b[2K\u001b[1A\u001b[2K\u001b[0G[+] 4.5s\n",
            "conda-forge/linux-64  ⣾  \u001b[2K\u001b[1A\u001b[2K\u001b[0G[+] 4.6s\n",
            "conda-forge/linux-64  ⣾  \u001b[2K\u001b[1A\u001b[2K\u001b[0G[+] 4.7s\n",
            "conda-forge/linux-64  ⣾  \u001b[2K\u001b[1A\u001b[2K\u001b[0G[+] 4.8s\n",
            "conda-forge/linux-64  ⣾  \u001b[2K\u001b[1A\u001b[2K\u001b[0G[+] 4.9s\n",
            "conda-forge/linux-64  ⣾  \u001b[2K\u001b[1A\u001b[2K\u001b[0G[+] 5.0s\n",
            "conda-forge/linux-64  ⣾  \u001b[2K\u001b[1A\u001b[2K\u001b[0G[+] 5.1s\n",
            "conda-forge/linux-64  ⣾  \u001b[2K\u001b[1A\u001b[2K\u001b[0G[+] 5.2s\n",
            "conda-forge/linux-64  ⣾  \u001b[2K\u001b[1A\u001b[2K\u001b[0G[+] 5.3s\n",
            "conda-forge/linux-64  ⣾  \u001b[2K\u001b[1A\u001b[2K\u001b[0G[+] 5.4s\n",
            "conda-forge/linux-64  ⣾  \u001b[2K\u001b[1A\u001b[2K\u001b[0G[+] 5.5s\n",
            "conda-forge/linux-64  ⣾  \u001b[2K\u001b[1A\u001b[2K\u001b[0G[+] 5.6s\n",
            "conda-forge/linux-64  ⣾  \u001b[2K\u001b[1A\u001b[2K\u001b[0G[+] 5.7s\n",
            "conda-forge/linux-64 100%\u001b[2K\u001b[1A\u001b[2K\u001b[0G[+] 5.8s\n",
            "conda-forge/linux-64 100%\u001b[2K\u001b[1A\u001b[2K\u001b[0G[+] 5.9s\n",
            "conda-forge/linux-64 100%\u001b[2K\u001b[1A\u001b[2K\u001b[0G[+] 6.0s\n",
            "conda-forge/linux-64 100%\u001b[2K\u001b[1A\u001b[2K\u001b[0G[+] 6.1s\n",
            "conda-forge/linux-64 100%\u001b[2K\u001b[1A\u001b[2K\u001b[0G[+] 6.2s\n",
            "conda-forge/linux-64 100%\u001b[2K\u001b[1A\u001b[2K\u001b[0G[+] 6.3s\n",
            "conda-forge/linux-64 100%\u001b[2K\u001b[1A\u001b[2K\u001b[0G[+] 6.4s\n",
            "conda-forge/linux-64 100%\u001b[2K\u001b[1A\u001b[2K\u001b[0G[+] 6.5s\n",
            "conda-forge/linux-64 100%\u001b[2K\u001b[1A\u001b[2K\u001b[0G[+] 6.6s\n",
            "conda-forge/linux-64 100%\u001b[2K\u001b[1A\u001b[2K\u001b[0G[+] 6.7s\n",
            "conda-forge/linux-64 100%\u001b[2K\u001b[1A\u001b[2K\u001b[0Gconda-forge/linux-64                              \n",
            "\u001b[?25h\n",
            "\n",
            "Looking for: ['ngspice']\n",
            "\n",
            "\n",
            "\n",
            "  Pinned packages:\n",
            "\n",
            "  - python 3.8.*\n",
            "  - python_abi 3.8.* *cp38*\n",
            "  - cudatoolkit 11.2.*\n",
            "\n",
            "\n",
            "Transaction\n",
            "\n",
            "  Prefix: /usr/local\n",
            "\n",
            "  All requested packages already installed\n",
            "\n",
            "\u001b[?25l\u001b[2K\u001b[0G\u001b[?25hPreparing transaction: - \b\bdone\n",
            "Verifying transaction: | \b\bdone\n",
            "Executing transaction: - \b\bdone\n",
            "#\n",
            "# To activate this environment, use\n",
            "#\n",
            "#     $ conda activate base\n",
            "#\n",
            "# To deactivate an active environment, use\n",
            "#\n",
            "#     $ conda deactivate\n",
            "\n",
            "Retrieving notices: ...working... done\n"
          ]
        }
      ],
      "source": [
        "!mamba env update -n base -f environment.yml"
      ]
    },
    {
      "cell_type": "code",
      "execution_count": null,
      "metadata": {
        "colab": {
          "base_uri": "https://localhost:8080/"
        },
        "id": "Uc5tBh5D4FVT",
        "outputId": "d82509a8-2051-4d20-ebc3-841dbce1898d"
      },
      "outputs": [
        {
          "name": "stdout",
          "output_type": "stream",
          "text": [
            "fatal: destination path 'globalfoundries-pdk-libs-gf180mcu_fd_pr' already exists and is not an empty directory.\n"
          ]
        }
      ],
      "source": [
        "!git clone https://github.com/google/globalfoundries-pdk-libs-gf180mcu_fd_pr.git"
      ]
    },
    {
      "cell_type": "markdown",
      "metadata": {
        "id": "Qnn9H_oowEgQ"
      },
      "source": [
        "## I. Introduction\n",
        "\n",
        "Please Introduce your idea here. Feel free to add subsections and figures."
      ]
    },
    {
      "cell_type": "markdown",
      "metadata": {
        "id": "QNj3rwejPJE7"
      },
      "source": [
        "## II. Implementation Details of your Idea\n",
        "\n",
        "This is where you should describe your idea in more details. Circuit diagrams, Flow chart, Simulations, etc.. are expected.\n",
        "\n"
      ]
    },
    {
      "cell_type": "markdown",
      "metadata": {
        "id": "l145R7JJPJE7"
      },
      "source": [
        "**Example of a Simulation Flow using Ngspice**"
      ]
    },
    {
      "cell_type": "code",
      "execution_count": null,
      "metadata": {
        "colab": {
          "base_uri": "https://localhost:8080/"
        },
        "id": "J0k4CykG8wui",
        "outputId": "48e6bafb-5334-4d30-8373-7786a66f94b4"
      },
      "outputs": [
        {
          "name": "stdout",
          "output_type": "stream",
          "text": [
            "Overwriting .spiceinit\n"
          ]
        }
      ],
      "source": [
        "%%writefile .spiceinit\n",
        "set ngbehavior=hs"
      ]
    },
    {
      "cell_type": "code",
      "execution_count": null,
      "metadata": {
        "colab": {
          "base_uri": "https://localhost:8080/"
        },
        "id": "d4381uZZ1dbj",
        "outputId": "eb42f2c2-3002-498a-e21a-5d4f3a799c66"
      },
      "outputs": [
        {
          "name": "stdout",
          "output_type": "stream",
          "text": [
            "Overwriting netlist.spice\n"
          ]
        }
      ],
      "source": [
        "%%writefile netlist.spice\n",
        "* PMOS VGS sweep\n",
        "\n",
        ".include \"globalfoundries-pdk-libs-gf180mcu_fd_pr/models/ngspice/design.ngspice\"\n",
        ".lib \"globalfoundries-pdk-libs-gf180mcu_fd_pr/models/ngspice/sm141064.ngspice\" typical\n",
        "\n",
        ".param width=10u\n",
        "X1 vdp vgp 0 vbp pmos_3p3 w=width l=0.28u AD={width*0.24u} AS={width*0.24u} PD={2*(width + 0.24u)} PS={2*(width + 0.24u)}\n",
        "vsdp     0  vdp        dc 0.9  \n",
        "vsgp     0  vgp        dc 0.9    \n",
        "vsbp     0  vbp        dc 0\n",
        ".op\n",
        ".option post nomod\n",
        ".end\n",
        "\n",
        ".control\n",
        "save all @m.x1.m0[id] @m.x1.m0[gm]  @m.x1.m0[cgg] \n",
        "dc vsgp 0 1.8 0.01\n",
        "display\n",
        "wrdata output.txt @m.x1.m0[id] @m.x1.m0[gm]  @m.x1.m0[cgg]\n",
        ".endc"
      ]
    },
    {
      "cell_type": "code",
      "execution_count": null,
      "metadata": {
        "colab": {
          "base_uri": "https://localhost:8080/"
        },
        "id": "6Qs0DbgP02vN",
        "outputId": "145fa0f0-4767-411e-8772-73280fe57c2d"
      },
      "outputs": [
        {
          "name": "stdout",
          "output_type": "stream",
          "text": [
            "\n",
            "Note: Compatibility modes selected: hs\n",
            "\n",
            "Warning: m=xx on .subckt line will override multiplier m hierarchy!\n",
            "\n",
            "\n",
            "Circuit: * pmos vgs sweep\n",
            "\n",
            "Doing analysis at TEMP = 27.000000 and TNOM = 27.000000\n",
            "\n",
            "\n",
            "No. of Data Rows : 181\n",
            "Here are the vectors currently active:\n",
            "\n",
            "Title: * pmos vgs sweep\n",
            "Name: dc1 (DC transfer characteristic)\n",
            "Date: Fri Jan  6 01:06:28  2023\n",
            "\n",
            "    @m.x1.m0[cgg]       : capacitance, real, 181 long\n",
            "    @m.x1.m0[gm]        : admittance, real, 181 long\n",
            "    @m.x1.m0[id]        : current, real, 181 long\n",
            "    v-sweep             : voltage, real, 181 long [default scale]\n",
            "    vbp                 : voltage, real, 181 long\n",
            "    vdp                 : voltage, real, 181 long\n",
            "    vgp                 : voltage, real, 181 long\n",
            "    vsbp#branch         : current, real, 181 long\n",
            "    vsdp#branch         : current, real, 181 long\n",
            "    vsgp#branch         : current, real, 181 long\n",
            "Doing analysis at TEMP = 27.000000 and TNOM = 27.000000\n",
            "\n",
            "\n",
            "No. of Data Rows : 1\n",
            "\tNode                                  Voltage\n",
            "\t----                                  -------\n",
            "\t----\t-------\n",
            "\tvbp                              0.000000e+00\n",
            "\tvgp                              -9.00000e-01\n",
            "\tvdp                              -9.00000e-01\n",
            "\n",
            "\tSource\tCurrent\n",
            "\t------\t-------\n",
            "\n",
            "\t@m.x1.m0[id]                     2.829225e-05\n",
            "\tvsdp#branch                      -2.82922e-05\n",
            "\tvsgp#branch                      0.000000e+00\n",
            "\tvsbp#branch                      9.008252e-13\n",
            "\n",
            " BSIM4v5: Berkeley Short Channel IGFET Model-4\n",
            "     device               m.x1.m0\n",
            "      model            pmos_3p3.8\n",
            "          l               2.8e-07\n",
            "          w                 1e-05\n",
            "          m                     1\n",
            "         nf                     1\n",
            "         sa                     0\n",
            "         sb                     0\n",
            "         sd                     0\n",
            "        sca                     0\n",
            "        scb                     0\n",
            "        scc                     0\n",
            "         sc                     0\n",
            "        min                     0\n",
            "         ad               2.4e-12\n",
            "         as               2.4e-12\n",
            "         pd             2.048e-05\n",
            "         ps             2.048e-05\n",
            "        nrd                     0\n",
            "        nrs                     0\n",
            "        off                     0\n",
            "       rbdb                    50\n",
            "       rbsb                    50\n",
            "       rbpb                    50\n",
            "       rbps                    50\n",
            "       rbpd                    50\n",
            "     delvto           -0.00173689\n",
            "        xgw                     0\n",
            "      ngcon                     1\n",
            "   trnqsmod                     0\n",
            "   acnqsmod                     0\n",
            "   rbodymod                     0\n",
            "   rgatemod                     0\n",
            "     geomod                     0\n",
            "    rgeomod                     0\n",
            "       gmbs           8.86307e-05\n",
            "         gm           0.000266785\n",
            "        gds           5.90081e-06\n",
            "      vdsat              0.191771\n",
            "        vth              0.735876\n",
            "         id           2.82922e-05\n",
            "        ibd          -9.00825e-13\n",
            "        ibs                     0\n",
            "        gbd           1.00168e-12\n",
            "        gbs           1.00054e-12\n",
            "       isub            1.8697e-19\n",
            "      igidl                     0\n",
            "      igisl                     0\n",
            "        igs                     0\n",
            "        igd                     0\n",
            "        igb                     0\n",
            "       igcs                     0\n",
            "       igcd                     0\n",
            "        vbs                    -0\n",
            "        vgs                   0.9\n",
            "        vds                   0.9\n",
            "        cgg           9.14344e-15\n",
            "        cgs          -6.86794e-15\n",
            "        cgd           5.70583e-17\n",
            "        cbg          -1.64522e-15\n",
            "        cbd           2.68481e-17\n",
            "        cbs          -3.18837e-15\n",
            "        cdg          -3.00227e-15\n",
            "        cdd          -3.18612e-17\n",
            "        cds           4.02489e-15\n",
            "        csg          -4.49594e-15\n",
            "        csd          -5.20452e-17\n",
            "        css           6.03141e-15\n",
            "        cgb          -2.33256e-15\n",
            "        cdb          -9.90754e-16\n",
            "        csb          -1.48343e-15\n",
            "        cbb           4.80674e-15\n",
            "      capbd           7.22884e-15\n",
            "      capbs           8.65386e-15\n",
            "         qg           1.18221e-14\n",
            "         qb          -9.40484e-15\n",
            "         qd          -9.67557e-16\n",
            "         qs          -1.44967e-15\n",
            "       qinv            1.3522e-15\n",
            "       qdef                    -0\n",
            "       gcrg                     0\n",
            "       gtau                     0\n",
            "\n",
            " Vsource: Independent voltage source\n",
            "     device                  vsbp                  vsgp                  vsdp\n",
            "         dc                     0                   0.9                   0.9\n",
            "      acmag                     0                     0                     0\n",
            "      pulse         -         -         -\n",
            "        sin         -         -         -\n",
            "        exp         -         -         -\n",
            "        pwl         -         -         -\n",
            "       sffm         -         -         -\n",
            "         am         -         -         -\n",
            "    trnoise         -         -         -\n",
            "   trrandom         -         -         -\n",
            "    portnum                     0                     0                     0\n",
            "         z0                     0                     0                     0\n",
            "        pwr                     0                     0                     0\n",
            "       freq                     0                     0                     0\n",
            "      phase                     0                     0                     0\n",
            "          i           9.00825e-13                     0          -2.82922e-05\n",
            "          p                     0                     0           -2.5463e-05\n",
            "\n",
            "\n",
            "Total analysis time (seconds) = 0.002\n",
            "\n",
            "Total elapsed time (seconds) = 0.052 \n",
            "\n",
            "Total DRAM available = 12985.539 MB.\n",
            "DRAM currently available = 8757.086 MB.\n",
            "Maximum ngspice program size =   55.383 MB.\n",
            "Current ngspice program size =   18.945 MB.\n",
            "\n",
            "Shared ngspice pages =   10.492 MB.\n",
            "Text (code) pages =    5.336 MB.\n",
            "Stack = 0 bytes.\n",
            "Library pages =   24.625 MB.\n",
            "\n"
          ]
        }
      ],
      "source": [
        "!ngspice -b netlist.spice"
      ]
    },
    {
      "cell_type": "code",
      "execution_count": null,
      "metadata": {
        "colab": {
          "base_uri": "https://localhost:8080/",
          "height": 424
        },
        "id": "xh5L-L-KaM9A",
        "outputId": "66e3b0d8-48a8-4403-c703-7e3e8cb51875"
      },
      "outputs": [
        {
          "data": {
            "text/html": [
              "\n",
              "  <div id=\"df-a9636474-d0fe-423f-b2f1-8ee3b0aba163\">\n",
              "    <div class=\"colab-df-container\">\n",
              "      <div>\n",
              "<style scoped>\n",
              "    .dataframe tbody tr th:only-of-type {\n",
              "        vertical-align: middle;\n",
              "    }\n",
              "\n",
              "    .dataframe tbody tr th {\n",
              "        vertical-align: top;\n",
              "    }\n",
              "\n",
              "    .dataframe thead th {\n",
              "        text-align: right;\n",
              "    }\n",
              "</style>\n",
              "<table border=\"1\" class=\"dataframe\">\n",
              "  <thead>\n",
              "    <tr style=\"text-align: right;\">\n",
              "      <th></th>\n",
              "      <th>vsg</th>\n",
              "      <th>gm</th>\n",
              "      <th>vsg1</th>\n",
              "      <th>id</th>\n",
              "      <th>vsg2</th>\n",
              "      <th>cgg</th>\n",
              "      <th>gm_id</th>\n",
              "      <th>f_T</th>\n",
              "    </tr>\n",
              "  </thead>\n",
              "  <tbody>\n",
              "    <tr>\n",
              "      <th>0</th>\n",
              "      <td>0.00</td>\n",
              "      <td>2.219625e-14</td>\n",
              "      <td>0.00</td>\n",
              "      <td>5.974883e-13</td>\n",
              "      <td>0.00</td>\n",
              "      <td>5.093935e-15</td>\n",
              "      <td>0.037149</td>\n",
              "      <td>6.934998e-01</td>\n",
              "    </tr>\n",
              "    <tr>\n",
              "      <th>1</th>\n",
              "      <td>0.01</td>\n",
              "      <td>2.905256e-14</td>\n",
              "      <td>0.01</td>\n",
              "      <td>7.820429e-13</td>\n",
              "      <td>0.01</td>\n",
              "      <td>5.070913e-15</td>\n",
              "      <td>0.037150</td>\n",
              "      <td>9.118396e-01</td>\n",
              "    </tr>\n",
              "    <tr>\n",
              "      <th>2</th>\n",
              "      <td>0.02</td>\n",
              "      <td>3.802666e-14</td>\n",
              "      <td>0.02</td>\n",
              "      <td>1.023600e-12</td>\n",
              "      <td>0.02</td>\n",
              "      <td>5.048310e-15</td>\n",
              "      <td>0.037150</td>\n",
              "      <td>1.198843e+00</td>\n",
              "    </tr>\n",
              "    <tr>\n",
              "      <th>3</th>\n",
              "      <td>0.03</td>\n",
              "      <td>4.977265e-14</td>\n",
              "      <td>0.03</td>\n",
              "      <td>1.339763e-12</td>\n",
              "      <td>0.03</td>\n",
              "      <td>5.026129e-15</td>\n",
              "      <td>0.037150</td>\n",
              "      <td>1.576076e+00</td>\n",
              "    </tr>\n",
              "    <tr>\n",
              "      <th>4</th>\n",
              "      <td>0.04</td>\n",
              "      <td>6.514662e-14</td>\n",
              "      <td>0.04</td>\n",
              "      <td>1.753572e-12</td>\n",
              "      <td>0.04</td>\n",
              "      <td>5.004374e-15</td>\n",
              "      <td>0.037151</td>\n",
              "      <td>2.071869e+00</td>\n",
              "    </tr>\n",
              "    <tr>\n",
              "      <th>...</th>\n",
              "      <td>...</td>\n",
              "      <td>...</td>\n",
              "      <td>...</td>\n",
              "      <td>...</td>\n",
              "      <td>...</td>\n",
              "      <td>...</td>\n",
              "      <td>...</td>\n",
              "      <td>...</td>\n",
              "    </tr>\n",
              "    <tr>\n",
              "      <th>176</th>\n",
              "      <td>1.76</td>\n",
              "      <td>5.628349e-04</td>\n",
              "      <td>1.76</td>\n",
              "      <td>8.072470e-04</td>\n",
              "      <td>1.76</td>\n",
              "      <td>9.708961e-15</td>\n",
              "      <td>0.697228</td>\n",
              "      <td>9.226318e+09</td>\n",
              "    </tr>\n",
              "    <tr>\n",
              "      <th>177</th>\n",
              "      <td>1.77</td>\n",
              "      <td>5.709094e-04</td>\n",
              "      <td>1.77</td>\n",
              "      <td>8.076281e-04</td>\n",
              "      <td>1.77</td>\n",
              "      <td>9.713970e-15</td>\n",
              "      <td>0.706896</td>\n",
              "      <td>9.353854e+09</td>\n",
              "    </tr>\n",
              "    <tr>\n",
              "      <th>178</th>\n",
              "      <td>1.78</td>\n",
              "      <td>5.789869e-04</td>\n",
              "      <td>1.78</td>\n",
              "      <td>8.078324e-04</td>\n",
              "      <td>1.78</td>\n",
              "      <td>9.719145e-15</td>\n",
              "      <td>0.716717</td>\n",
              "      <td>9.481145e+09</td>\n",
              "    </tr>\n",
              "    <tr>\n",
              "      <th>179</th>\n",
              "      <td>1.79</td>\n",
              "      <td>5.870655e-04</td>\n",
              "      <td>1.79</td>\n",
              "      <td>8.078594e-04</td>\n",
              "      <td>1.79</td>\n",
              "      <td>9.724496e-15</td>\n",
              "      <td>0.726693</td>\n",
              "      <td>9.608146e+09</td>\n",
              "    </tr>\n",
              "    <tr>\n",
              "      <th>180</th>\n",
              "      <td>1.80</td>\n",
              "      <td>5.951435e-04</td>\n",
              "      <td>1.80</td>\n",
              "      <td>8.077095e-04</td>\n",
              "      <td>1.80</td>\n",
              "      <td>9.730033e-15</td>\n",
              "      <td>0.736829</td>\n",
              "      <td>9.734811e+09</td>\n",
              "    </tr>\n",
              "  </tbody>\n",
              "</table>\n",
              "<p>181 rows × 8 columns</p>\n",
              "</div>\n",
              "      <button class=\"colab-df-convert\" onclick=\"convertToInteractive('df-a9636474-d0fe-423f-b2f1-8ee3b0aba163')\"\n",
              "              title=\"Convert this dataframe to an interactive table.\"\n",
              "              style=\"display:none;\">\n",
              "        \n",
              "  <svg xmlns=\"http://www.w3.org/2000/svg\" height=\"24px\"viewBox=\"0 0 24 24\"\n",
              "       width=\"24px\">\n",
              "    <path d=\"M0 0h24v24H0V0z\" fill=\"none\"/>\n",
              "    <path d=\"M18.56 5.44l.94 2.06.94-2.06 2.06-.94-2.06-.94-.94-2.06-.94 2.06-2.06.94zm-11 1L8.5 8.5l.94-2.06 2.06-.94-2.06-.94L8.5 2.5l-.94 2.06-2.06.94zm10 10l.94 2.06.94-2.06 2.06-.94-2.06-.94-.94-2.06-.94 2.06-2.06.94z\"/><path d=\"M17.41 7.96l-1.37-1.37c-.4-.4-.92-.59-1.43-.59-.52 0-1.04.2-1.43.59L10.3 9.45l-7.72 7.72c-.78.78-.78 2.05 0 2.83L4 21.41c.39.39.9.59 1.41.59.51 0 1.02-.2 1.41-.59l7.78-7.78 2.81-2.81c.8-.78.8-2.07 0-2.86zM5.41 20L4 18.59l7.72-7.72 1.47 1.35L5.41 20z\"/>\n",
              "  </svg>\n",
              "      </button>\n",
              "      \n",
              "  <style>\n",
              "    .colab-df-container {\n",
              "      display:flex;\n",
              "      flex-wrap:wrap;\n",
              "      gap: 12px;\n",
              "    }\n",
              "\n",
              "    .colab-df-convert {\n",
              "      background-color: #E8F0FE;\n",
              "      border: none;\n",
              "      border-radius: 50%;\n",
              "      cursor: pointer;\n",
              "      display: none;\n",
              "      fill: #1967D2;\n",
              "      height: 32px;\n",
              "      padding: 0 0 0 0;\n",
              "      width: 32px;\n",
              "    }\n",
              "\n",
              "    .colab-df-convert:hover {\n",
              "      background-color: #E2EBFA;\n",
              "      box-shadow: 0px 1px 2px rgba(60, 64, 67, 0.3), 0px 1px 3px 1px rgba(60, 64, 67, 0.15);\n",
              "      fill: #174EA6;\n",
              "    }\n",
              "\n",
              "    [theme=dark] .colab-df-convert {\n",
              "      background-color: #3B4455;\n",
              "      fill: #D2E3FC;\n",
              "    }\n",
              "\n",
              "    [theme=dark] .colab-df-convert:hover {\n",
              "      background-color: #434B5C;\n",
              "      box-shadow: 0px 1px 3px 1px rgba(0, 0, 0, 0.15);\n",
              "      filter: drop-shadow(0px 1px 2px rgba(0, 0, 0, 0.3));\n",
              "      fill: #FFFFFF;\n",
              "    }\n",
              "  </style>\n",
              "\n",
              "      <script>\n",
              "        const buttonEl =\n",
              "          document.querySelector('#df-a9636474-d0fe-423f-b2f1-8ee3b0aba163 button.colab-df-convert');\n",
              "        buttonEl.style.display =\n",
              "          google.colab.kernel.accessAllowed ? 'block' : 'none';\n",
              "\n",
              "        async function convertToInteractive(key) {\n",
              "          const element = document.querySelector('#df-a9636474-d0fe-423f-b2f1-8ee3b0aba163');\n",
              "          const dataTable =\n",
              "            await google.colab.kernel.invokeFunction('convertToInteractive',\n",
              "                                                     [key], {});\n",
              "          if (!dataTable) return;\n",
              "\n",
              "          const docLinkHtml = 'Like what you see? Visit the ' +\n",
              "            '<a target=\"_blank\" href=https://colab.research.google.com/notebooks/data_table.ipynb>data table notebook</a>'\n",
              "            + ' to learn more about interactive tables.';\n",
              "          element.innerHTML = '';\n",
              "          dataTable['output_type'] = 'display_data';\n",
              "          await google.colab.output.renderOutput(dataTable, element);\n",
              "          const docLink = document.createElement('div');\n",
              "          docLink.innerHTML = docLinkHtml;\n",
              "          element.appendChild(docLink);\n",
              "        }\n",
              "      </script>\n",
              "    </div>\n",
              "  </div>\n",
              "  "
            ],
            "text/plain": [
              "      vsg            gm  vsg1            id  vsg2           cgg     gm_id  \\\n",
              "0    0.00  2.219625e-14  0.00  5.974883e-13  0.00  5.093935e-15  0.037149   \n",
              "1    0.01  2.905256e-14  0.01  7.820429e-13  0.01  5.070913e-15  0.037150   \n",
              "2    0.02  3.802666e-14  0.02  1.023600e-12  0.02  5.048310e-15  0.037150   \n",
              "3    0.03  4.977265e-14  0.03  1.339763e-12  0.03  5.026129e-15  0.037150   \n",
              "4    0.04  6.514662e-14  0.04  1.753572e-12  0.04  5.004374e-15  0.037151   \n",
              "..    ...           ...   ...           ...   ...           ...       ...   \n",
              "176  1.76  5.628349e-04  1.76  8.072470e-04  1.76  9.708961e-15  0.697228   \n",
              "177  1.77  5.709094e-04  1.77  8.076281e-04  1.77  9.713970e-15  0.706896   \n",
              "178  1.78  5.789869e-04  1.78  8.078324e-04  1.78  9.719145e-15  0.716717   \n",
              "179  1.79  5.870655e-04  1.79  8.078594e-04  1.79  9.724496e-15  0.726693   \n",
              "180  1.80  5.951435e-04  1.80  8.077095e-04  1.80  9.730033e-15  0.736829   \n",
              "\n",
              "              f_T  \n",
              "0    6.934998e-01  \n",
              "1    9.118396e-01  \n",
              "2    1.198843e+00  \n",
              "3    1.576076e+00  \n",
              "4    2.071869e+00  \n",
              "..            ...  \n",
              "176  9.226318e+09  \n",
              "177  9.353854e+09  \n",
              "178  9.481145e+09  \n",
              "179  9.608146e+09  \n",
              "180  9.734811e+09  \n",
              "\n",
              "[181 rows x 8 columns]"
            ]
          },
          "execution_count": 46,
          "metadata": {},
          "output_type": "execute_result"
        }
      ],
      "source": [
        "import math\n",
        "import pandas as pd\n",
        "import matplotlib.pyplot as plt\n",
        "df = pd.read_csv(\"output.txt\", delim_whitespace=True, header=None)\n",
        "df.columns = [\"vsg\", \"gm\", \"vsg1\", \"id\", \"vsg2\", \"cgg\"]\n",
        "df['gm_id'] = df['gm']/df['id']\n",
        "df['f_T'] = df['gm']/df['cgg']/2/math.pi\n",
        "df"
      ]
    },
    {
      "cell_type": "code",
      "execution_count": null,
      "metadata": {
        "colab": {
          "base_uri": "https://localhost:8080/",
          "height": 280
        },
        "id": "rCTaJreri9ke",
        "outputId": "3e851d0d-0eb0-4312-fe7e-dc6bd981a778"
      },
      "outputs": [
        {
          "data": {
            "image/png": "[encoded data removed]",
            "text/plain": [
              "<Figure size 432x288 with 1 Axes>"
            ]
          },
          "metadata": {
            "needs_background": "light"
          },
          "output_type": "display_data"
        }
      ],
      "source": [
        "df.plot(x=\"vsg\", y=\"id\", logy=True, grid=True)\n",
        "plt.show()"
      ]
    },
    {
      "cell_type": "code",
      "execution_count": null,
      "metadata": {
        "colab": {
          "base_uri": "https://localhost:8080/",
          "height": 279
        },
        "id": "QtT18v6ElmwL",
        "outputId": "d84cb317-b680-453e-9a7a-392a90aeb93f"
      },
      "outputs": [
        {
          "data": {
            "image/png": "[encoded data removed]",
            "text/plain": [
              "<Figure size 432x288 with 1 Axes>"
            ]
          },
          "metadata": {
            "needs_background": "light"
          },
          "output_type": "display_data"
        }
      ],
      "source": [
        "df.plot(x=\"vsg\", y=\"gm_id\", grid=True)\n",
        "plt.show()"
      ]
    },
    {
      "cell_type": "code",
      "execution_count": null,
      "metadata": {
        "colab": {
          "base_uri": "https://localhost:8080/",
          "height": 290
        },
        "id": "fuCOaerRn2EV",
        "outputId": "c2cc3db4-b5b3-417c-f943-89587b8c5b0c"
      },
      "outputs": [
        {
          "data": {
            "image/png": "[encoded data removed]",
            "text/plain": [
              "<Figure size 432x288 with 1 Axes>"
            ]
          },
          "metadata": {
            "needs_background": "light"
          },
          "output_type": "display_data"
        }
      ],
      "source": [
        "df.plot(x=\"vsg\", y=\"f_T\", grid=True)\n",
        "plt.show()"
      ]
    },
    {
      "cell_type": "markdown",
      "metadata": {
        "id": "_5Pg-YCXPJE_"
      },
      "source": [
        "## III. Summary of your Idea\n",
        "\n",
        "This is where you summarize your work. Comparison tables and a description of your expected results should be listed here."
      ]
    },
    {
      "cell_type": "markdown",
      "metadata": {
        "id": "llYW0-ATPJE_"
      },
      "source": [
        "## IV. Planification and Tasks\n",
        "\n",
        "Planning and breakdown of tasks are usually helpful for a successful project. Good Luck!"
      ]
    }
  ],
  "metadata": {
    "colab": {
      "provenance": [],
      "toc_visible": true,
      "include_colab_link": true
    },
    "kernelspec": {
      "display_name": "Python 3.9.13 64-bit",
      "language": "python",
      "name": "python3"
    },
    "language_info": {
      "name": "python",
      "version": "3.9.13"
    },
    "vscode": {
      "interpreter": {
        "hash": "397704579725e15f5c7cb49fe5f0341eb7531c82d19f2c29d197e8b64ab5776b"
      }
    }
  },
  "nbformat": 4,
  "nbformat_minor": 0
}